
# for name in my_string_again.split(','):
#     match = pattern_name.search(name)

#     if match:
#         print(match.groups(2))
#     else:
#         print("not a name")